{
 "cells": [
  {
   "cell_type": "code",
   "execution_count": 1,
   "id": "3b937574",
   "metadata": {},
   "outputs": [],
   "source": [
    "d = {'key':'value'}\n"
   ]
  },
  {
   "cell_type": "code",
   "execution_count": 5,
   "id": "67e93b47",
   "metadata": {},
   "outputs": [
    {
     "data": {
      "text/plain": [
       "'value'"
      ]
     },
     "execution_count": 5,
     "metadata": {},
     "output_type": "execute_result"
    }
   ],
   "source": [
    "d['key']"
   ]
  },
  {
   "cell_type": "code",
   "execution_count": 1,
   "id": "be2d8fb4",
   "metadata": {},
   "outputs": [],
   "source": [
    "from box import Box\n",
    "d2 = Box({'key1': 50, 'key2': 10})"
   ]
  },
  {
   "cell_type": "code",
   "execution_count": 2,
   "id": "f64333db",
   "metadata": {},
   "outputs": [
    {
     "data": {
      "text/plain": [
       "50"
      ]
     },
     "execution_count": 2,
     "metadata": {},
     "output_type": "execute_result"
    }
   ],
   "source": [
    "d2.key1"
   ]
  },
  {
   "cell_type": "code",
   "execution_count": null,
   "id": "27306d92",
   "metadata": {},
   "outputs": [],
   "source": []
  }
 ],
 "metadata": {
  "kernelspec": {
   "display_name": "Python 3",
   "language": "python",
   "name": "python3"
  },
  "language_info": {
   "codemirror_mode": {
    "name": "ipython",
    "version": 3
   },
   "file_extension": ".py",
   "mimetype": "text/x-python",
   "name": "python",
   "nbconvert_exporter": "python",
   "pygments_lexer": "ipython3",
   "version": "3.13.5"
  }
 },
 "nbformat": 4,
 "nbformat_minor": 5
}
